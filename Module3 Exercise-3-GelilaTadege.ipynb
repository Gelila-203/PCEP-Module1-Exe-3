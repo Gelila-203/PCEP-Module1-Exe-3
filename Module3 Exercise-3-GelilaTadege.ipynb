{
 "cells": [
  {
   "cell_type": "markdown",
   "id": "2383bb19",
   "metadata": {},
   "source": [
    "Print cookies and milk are a great dessert."
   ]
  },
  {
   "cell_type": "code",
   "execution_count": 1,
   "id": "e71c6dd4",
   "metadata": {},
   "outputs": [
    {
     "name": "stdout",
     "output_type": "stream",
     "text": [
      "cookies and milk are a great dessert.\n"
     ]
    }
   ],
   "source": [
    "print(\"cookies and milk are a great dessert.\")"
   ]
  },
  {
   "cell_type": "markdown",
   "id": "12f80280",
   "metadata": {},
   "source": [
    "Print out your favorite color and above the code, comment what you are doing."
   ]
  },
  {
   "cell_type": "code",
   "execution_count": 2,
   "id": "40661bab",
   "metadata": {},
   "outputs": [
    {
     "name": "stdout",
     "output_type": "stream",
     "text": [
      "favorite color is blue.\n"
     ]
    }
   ],
   "source": [
    "# this line is to add the favorite color\n",
    "print(\"favorite color is blue.\")"
   ]
  },
  {
   "cell_type": "markdown",
   "id": "7fd2984c",
   "metadata": {},
   "source": [
    "Print out your favority color again and add an in-line comment."
   ]
  },
  {
   "cell_type": "code",
   "execution_count": 3,
   "id": "36c615b8",
   "metadata": {},
   "outputs": [
    {
     "name": "stdout",
     "output_type": "stream",
     "text": [
      "favorite color is blue.\n"
     ]
    }
   ],
   "source": [
    "print(\"favorite color is blue.\") # this is inline comment"
   ]
  },
  {
   "cell_type": "markdown",
   "id": "48238c2b",
   "metadata": {},
   "source": [
    "Print the sumation of numbers 1 to 10"
   ]
  },
  {
   "cell_type": "code",
   "execution_count": 4,
   "id": "498ede8d",
   "metadata": {},
   "outputs": [
    {
     "name": "stdout",
     "output_type": "stream",
     "text": [
      "1 2 3 4 5 6 7 8 9 10\n"
     ]
    }
   ],
   "source": [
    "print(1, 2 , 3, 4, 5, 6, 7, 8, 9, 10,  sep=' ')"
   ]
  },
  {
   "cell_type": "markdown",
   "id": "d198a672",
   "metadata": {},
   "source": [
    "Print what 6 to the 7th power is."
   ]
  },
  {
   "cell_type": "code",
   "execution_count": 5,
   "id": "a251fae6",
   "metadata": {},
   "outputs": [
    {
     "name": "stdout",
     "output_type": "stream",
     "text": [
      "60000000.0\n"
     ]
    }
   ],
   "source": [
    "print(6e7)"
   ]
  },
  {
   "cell_type": "markdown",
   "id": "9e846779",
   "metadata": {},
   "source": [
    "Print the remainder of 100 divided by 11."
   ]
  },
  {
   "cell_type": "code",
   "execution_count": 6,
   "id": "473228e7",
   "metadata": {},
   "outputs": [
    {
     "name": "stdout",
     "output_type": "stream",
     "text": [
      "1\n"
     ]
    }
   ],
   "source": [
    "reminder= 100%11\n",
    "print(reminder)"
   ]
  },
  {
   "cell_type": "markdown",
   "id": "80fb30ae",
   "metadata": {},
   "source": [
    "What is the result of \"Python\" + \"1\""
   ]
  },
  {
   "cell_type": "markdown",
   "id": "7f3fdb35",
   "metadata": {},
   "source": [
    "'Python1'"
   ]
  },
  {
   "cell_type": "markdown",
   "id": "6fa17f69",
   "metadata": {},
   "source": [
    "Print out 100 divided by 5"
   ]
  },
  {
   "cell_type": "markdown",
   "id": "3cf2fc91",
   "metadata": {},
   "source": [
    "20.0"
   ]
  },
  {
   "cell_type": "markdown",
   "id": "101a8255",
   "metadata": {},
   "source": [
    "What is the difference between 10/4 and 10//4? Print out the result"
   ]
  },
  {
   "cell_type": "code",
   "execution_count": 11,
   "id": "ce5912a6",
   "metadata": {},
   "outputs": [
    {
     "name": "stdout",
     "output_type": "stream",
     "text": [
      "2.5\n",
      "2\n"
     ]
    }
   ],
   "source": [
    "print(10/4)\n",
    "print(10//4)"
   ]
  },
  {
   "cell_type": "markdown",
   "id": "a689aa06",
   "metadata": {},
   "source": [
    "2.5 and 2 is the result"
   ]
  },
  {
   "cell_type": "markdown",
   "id": "cb5fc070",
   "metadata": {},
   "source": [
    "Create a variable named foo that stores a string value."
   ]
  },
  {
   "cell_type": "code",
   "execution_count": 12,
   "id": "ad1a7462",
   "metadata": {},
   "outputs": [],
   "source": [
    "foo=\"string variable\""
   ]
  },
  {
   "cell_type": "markdown",
   "id": "55cc4076",
   "metadata": {},
   "source": [
    "Print foo variable"
   ]
  },
  {
   "cell_type": "code",
   "execution_count": 13,
   "id": "d0150167",
   "metadata": {},
   "outputs": [
    {
     "name": "stdout",
     "output_type": "stream",
     "text": [
      "string variable\n"
     ]
    }
   ],
   "source": [
    "print(foo)"
   ]
  },
  {
   "cell_type": "markdown",
   "id": "de6d0e7c",
   "metadata": {},
   "source": [
    "string variable"
   ]
  },
  {
   "cell_type": "markdown",
   "id": "3bcafe96",
   "metadata": {},
   "source": [
    "Create a variable called height and store your height value there. Print a sentence describing your height and use the variable in the sentence as well.\n"
   ]
  },
  {
   "cell_type": "code",
   "execution_count": 14,
   "id": "3c1928a7",
   "metadata": {},
   "outputs": [],
   "source": [
    "height=10"
   ]
  },
  {
   "cell_type": "code",
   "execution_count": 15,
   "id": "c751d130",
   "metadata": {},
   "outputs": [
    {
     "name": "stdout",
     "output_type": "stream",
     "text": [
      "The height is 10\n"
     ]
    }
   ],
   "source": [
    "print( \"The height is\" , height)"
   ]
  },
  {
   "cell_type": "markdown",
   "id": "958f11c9",
   "metadata": {},
   "source": [
    "Concate two strings together using variables and print out the result"
   ]
  },
  {
   "cell_type": "code",
   "execution_count": 16,
   "id": "5bb85d59",
   "metadata": {},
   "outputs": [],
   "source": [
    "Full_Name= \"Helen\" +  \" \" + \"Teddy\""
   ]
  },
  {
   "cell_type": "code",
   "execution_count": 17,
   "id": "f25e075b",
   "metadata": {},
   "outputs": [
    {
     "name": "stdout",
     "output_type": "stream",
     "text": [
      "Helen Teddy\n"
     ]
    }
   ],
   "source": [
    "print(Full_Name )"
   ]
  },
  {
   "cell_type": "markdown",
   "id": "bf8fdcdf",
   "metadata": {},
   "source": [
    "Use the two different quotes in a string and print out the sentence"
   ]
  },
  {
   "cell_type": "code",
   "execution_count": 22,
   "id": "9f320ca3",
   "metadata": {},
   "outputs": [],
   "source": [
    "variable=\"'allen'\""
   ]
  },
  {
   "cell_type": "code",
   "execution_count": 23,
   "id": "68e224c4",
   "metadata": {},
   "outputs": [
    {
     "name": "stdout",
     "output_type": "stream",
     "text": [
      "'allen'\n"
     ]
    }
   ],
   "source": [
    "print(variable)"
   ]
  },
  {
   "cell_type": "markdown",
   "id": "b9c9eff9",
   "metadata": {},
   "source": [
    "Print out Hello World! 7 times each on a new line using only one line of code."
   ]
  },
  {
   "cell_type": "code",
   "execution_count": 30,
   "id": "40d168af",
   "metadata": {},
   "outputs": [
    {
     "name": "stdout",
     "output_type": "stream",
     "text": [
      "Hello World!\n",
      "Hello World!\n",
      "Hello World!\n",
      "Hello World!\n",
      "Hello World!\n",
      "\n"
     ]
    }
   ],
   "source": [
    "print(5* \"Hello World!\\n\")"
   ]
  },
  {
   "cell_type": "markdown",
   "id": "c2c801a7",
   "metadata": {},
   "source": [
    "What is the result of \"apple\" > \"Apple\""
   ]
  },
  {
   "cell_type": "markdown",
   "id": "687d2217",
   "metadata": {},
   "source": [
    "Answer is True"
   ]
  },
  {
   "cell_type": "markdown",
   "id": "8077646c",
   "metadata": {},
   "source": [
    "Print out if 25 multiplied by 54 is bigger than 33 multipled by 33"
   ]
  },
  {
   "cell_type": "code",
   "execution_count": 31,
   "id": "02b87cbd",
   "metadata": {},
   "outputs": [
    {
     "name": "stdout",
     "output_type": "stream",
     "text": [
      "if 25 multiplied by 54 is bigger than 33 multipled by 33\n"
     ]
    }
   ],
   "source": [
    "print('if 25 multiplied by 54 is bigger than 33 multipled by 33')"
   ]
  },
  {
   "cell_type": "markdown",
   "id": "987c87a5",
   "metadata": {},
   "source": [
    "What is the result of of 123 == “123”?"
   ]
  },
  {
   "cell_type": "markdown",
   "id": "f733a500",
   "metadata": {},
   "source": [
    "Error"
   ]
  },
  {
   "cell_type": "markdown",
   "id": "9c40e6f9",
   "metadata": {},
   "source": [
    "Ask a user for width and length of a rectangle. Then compute its area and perimeter."
   ]
  },
  {
   "cell_type": "code",
   "execution_count": 33,
   "id": "c7209302",
   "metadata": {},
   "outputs": [
    {
     "name": "stdout",
     "output_type": "stream",
     "text": [
      "10\n",
      "10\n",
      "The calculated area is  100\n"
     ]
    }
   ],
   "source": [
    "length= int(input())\n",
    "width = int(input()) \n",
    "Area=length * width\n",
    "print(\"The calculated area is \", Area)"
   ]
  },
  {
   "cell_type": "markdown",
   "id": "e77e2f0c",
   "metadata": {},
   "source": [
    "Ask a user for two whole numbers. Then compute their sum and difference."
   ]
  },
  {
   "cell_type": "code",
   "execution_count": 37,
   "id": "51b32469",
   "metadata": {},
   "outputs": [
    {
     "name": "stdout",
     "output_type": "stream",
     "text": [
      "Enter the first whole number 2\n",
      "Enter the second whole number 4\n",
      "The sum of the two number is  6\n"
     ]
    }
   ],
   "source": [
    "n1=int(input(\"Enter the first whole number \"))\n",
    "n2=int(input(\"Enter the second whole number \"))\n",
    "Sum=n1+n2\n",
    "print(\"The sum of the two number is \", Sum)"
   ]
  },
  {
   "cell_type": "code",
   "execution_count": null,
   "id": "b3aabaa4",
   "metadata": {},
   "outputs": [],
   "source": []
  }
 ],
 "metadata": {
  "kernelspec": {
   "display_name": "Python 3 (ipykernel)",
   "language": "python",
   "name": "python3"
  },
  "language_info": {
   "codemirror_mode": {
    "name": "ipython",
    "version": 3
   },
   "file_extension": ".py",
   "mimetype": "text/x-python",
   "name": "python",
   "nbconvert_exporter": "python",
   "pygments_lexer": "ipython3",
   "version": "3.9.12"
  }
 },
 "nbformat": 4,
 "nbformat_minor": 5
}
